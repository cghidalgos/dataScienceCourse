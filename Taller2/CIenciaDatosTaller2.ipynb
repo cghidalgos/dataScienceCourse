{
 "cells": [
  {
   "cell_type": "markdown",
   "metadata": {},
   "source": [
    "# Taller 2 - Red de Monitoreo de Calidad del Aire de Bogota.\n",
    "http://rmcab.ambientebogota.gov.co/Report/stationreport"
   ]
  },
  {
   "cell_type": "markdown",
   "metadata": {},
   "source": [
    "## Descripción de los datos "
   ]
  },
  {
   "cell_type": "markdown",
   "metadata": {
    "_cell_guid": "a46b6c64-6f25-4007-9f41-4abd863b0130",
    "_uuid": "db8d6c6327671959fae8eefb9e3e60adad46afbe",
    "id": "EclXh3ZcfaL5"
   },
   "source": [
    "## 1. Cargar Librerias\n",
    "***"
   ]
  },
  {
   "cell_type": "code",
   "execution_count": null,
   "metadata": {
    "_cell_guid": "9b79a352-5901-4b5a-af72-c2872c6c2d3b",
    "_uuid": "4ebdadf89270fbbe8a2efa6aa8053c3605fbc808",
    "id": "fbYd1fhmfaL5",
    "tags": []
   },
   "outputs": [],
   "source": [
    "# Carga las librerias necesarias"
   ]
  },
  {
   "cell_type": "markdown",
   "metadata": {
    "id": "-6CGZ7d4duEW"
   },
   "source": [
    "## 2. Cargar Datos"
   ]
  },
  {
   "cell_type": "code",
   "execution_count": null,
   "metadata": {
    "_cell_guid": "af5af896-7e0a-46fb-837a-b6f0ae51fd56",
    "_uuid": "4bbc946c081a0d297fd5801048e9b49a0d036168",
    "colab": {
     "base_uri": "https://localhost:8080/",
     "height": 424
    },
    "id": "znzvPbRNfaL7",
    "outputId": "addc8ec6-7f09-41d1-a14c-c65d8b760908",
    "tags": []
   },
   "outputs": [],
   "source": [
    "#dataframe nombrado \"df\"\n",
    "#Se usará el conjunto de datos \"dataset_with_geo_missing\" creado en el Taller 1, \n",
    "#este conjunto de datos, se caracteriza por no tener algunos valores.\n",
    " \n",
    "\n",
    " # carga el conjunto de datos ../Taller1/data/dataset_with_geo_missing.csv\n",
    " \n"
   ]
  },
  {
   "cell_type": "markdown",
   "metadata": {
    "_cell_guid": "11e56653-4ce4-44eb-b562-a5715562c3cc",
    "_uuid": "7af6d7934b3f0212c93d1a07e69f934dd986a954",
    "id": "uxgCcL_NfaMB"
   },
   "source": [
    "## 3: Explorar datos\n",
    "*** "
   ]
  },
  {
   "cell_type": "markdown",
   "metadata": {
    "_cell_guid": "bde6fe00-926c-4ee4-a00a-faca5ecfa917",
    "_uuid": "551ca8d64aaaa080d36e0da0ed46c3ca267349fd",
    "id": "_8yxy0XofaMC"
   },
   "source": [
    "###  3.1 Estadisticas \n",
    "***\n",
    "Resumen: \n",
    "- Identificar nombre de las columnas\n",
    "- Número de columnas y filas \n",
    "- Tamaño del conjunto de datos\n",
    "- Tipos de datos\n",
    "- Porcentajes de valores\n",
    "- Correlaciones de variables\n",
    "- Valores nulos\n"
   ]
  },
  {
   "cell_type": "code",
   "execution_count": null,
   "metadata": {
    "_cell_guid": "bc3d99b1-7bc5-4ba2-a34f-0a721c51075f",
    "_uuid": "a9ae5674c17ee2b88035aef24d674c56d0b89a03",
    "colab": {
     "base_uri": "https://localhost:8080/",
     "height": 344
    },
    "id": "PjvcTK_ZfaMD",
    "outputId": "8cb798ef-3de4-4a8f-f9ab-4de8cd60371e"
   },
   "outputs": [],
   "source": [
    "# Estadisticas basicas del conjunto de datos \n"
   ]
  },
  {
   "cell_type": "code",
   "execution_count": null,
   "metadata": {
    "_cell_guid": "73419440-c92d-4f6a-a718-216646b900cc",
    "_uuid": "a7eabf82ee6adbd09aca9e878112f8525ea50417",
    "colab": {
     "base_uri": "https://localhost:8080/"
    },
    "id": "TqxYdlGofaMC",
    "outputId": "9c6c3444-4b5b-4673-ffc3-a8c8876dd91e"
   },
   "outputs": [],
   "source": [
    "#Descripción del conjunto de datos: 166440 observaciones y 10 caracteristicas\n"
   ]
  },
  {
   "cell_type": "code",
   "execution_count": null,
   "metadata": {
    "_cell_guid": "25bc8dfe-5d24-4249-bab0-0424a20b1bd5",
    "_uuid": "4be89ba5d2e7f693b0cd228830423a700b6196fa",
    "colab": {
     "base_uri": "https://localhost:8080/"
    },
    "id": "GvztrHwefaMC",
    "outputId": "631536e2-5ec1-4d0b-f0a2-bf8ae47f2fe0"
   },
   "outputs": [],
   "source": [
    "# Comprobar el número de Filas y Columnas \n",
    "print(\"Número de  Filas: \", len(df))\n",
    "print(\"Número de Columnas \", + len(df.columns))\n",
    "\n",
    "#Comprobar el tipo de datos en las características\n",
    "print(df.dtypes)"
   ]
  },
  {
   "cell_type": "code",
   "execution_count": null,
   "metadata": {
    "colab": {
     "base_uri": "https://localhost:8080/"
    },
    "id": "KKhzqKC5n9oG",
    "outputId": "8a6484cf-1a1b-4f2e-bd60-27f11f3987d3"
   },
   "outputs": [],
   "source": [
    "#Comprobar si hay valores nulos true o false\n"
   ]
  },
  {
   "cell_type": "code",
   "execution_count": null,
   "metadata": {
    "colab": {
     "base_uri": "https://localhost:8080/"
    },
    "id": "Aa0OGCYlOsJf",
    "outputId": "b04fa9ef-f1ff-4e76-cd1c-0ef22da199d2",
    "scrolled": true
   },
   "outputs": [],
   "source": [
    "# Esta celda eliminará todas las filas que tienen valores nulos\n"
   ]
  },
  {
   "cell_type": "code",
   "execution_count": null,
   "metadata": {
    "_cell_guid": "d61efd5d-5c2c-4b3c-b2ac-22d562c9e91a",
    "_uuid": "cfb764723207606d3e7fe991b17cd648e04c0a7a",
    "colab": {
     "base_uri": "https://localhost:8080/",
     "height": 143
    },
    "id": "LN-uwGOPfaMD",
    "outputId": "18973e51-a24c-4621-abc8-5f874f301e71"
   },
   "outputs": [],
   "source": [
    "# Resumen de una variable (False V.S. True) en la variable Status\n",
    "Status_Summary = df.groupby('Status')\n",
    "Status_Summary.mean()"
   ]
  },
  {
   "cell_type": "code",
   "execution_count": null,
   "metadata": {
    "colab": {
     "base_uri": "https://localhost:8080/"
    },
    "id": "JD_8dbJSzZj3",
    "outputId": "7d595b85-04b8-4205-a8fd-533ba3f245fe"
   },
   "outputs": [],
   "source": [
    "#Filtrar datos por columnas\n"
   ]
  },
  {
   "cell_type": "markdown",
   "metadata": {
    "_cell_guid": "918f20ff-ed2c-43dd-849c-b7d751aeed86",
    "_uuid": "bed79decbf6495197f8f0219212c41c0042e196e",
    "id": "BI1_I-gLfaME"
   },
   "source": [
    "####  3.1.1 Correlación\n",
    "***\n",
    "\n",
    "Resumen:\n",
    "\n",
    "\n",
    "- Hay una correlación **positiva(+) a 1** o **negativa(-) a -1** hay una correlacion fuerte. La aproximación a 0 es mas debil la relacion lineal  "
   ]
  },
  {
   "cell_type": "code",
   "execution_count": null,
   "metadata": {
    "_cell_guid": "20d2f962-fcfa-434c-88ab-12dc05071b03",
    "_uuid": "1e2cb2cce7d8edf2ecd13a7197063ef3eea8d073",
    "colab": {
     "base_uri": "https://localhost:8080/",
     "height": 580
    },
    "id": "Nmn-hGsYfaME",
    "outputId": "8ababed3-407d-4371-92e5-84fe65438185",
    "scrolled": true
   },
   "outputs": [],
   "source": [
    "#Matriz de correlación\n",
    "corr = df.corr()\n",
    "\n"
   ]
  },
  {
   "cell_type": "markdown",
   "metadata": {
    "_cell_guid": "fd10e1bc-1cca-4bdd-a8b4-73a6b7f5ddd7",
    "_uuid": "06467f1691005e605af9084ee142fd2c86b4f324",
    "id": "EXwS5-erfaMH"
   },
   "source": [
    "###  3.2 Gráficos de distribución \n"
   ]
  },
  {
   "cell_type": "code",
   "execution_count": null,
   "metadata": {
    "colab": {
     "base_uri": "https://localhost:8080/",
     "height": 550
    },
    "id": "xnCHOWV3xTCD",
    "outputId": "509474b4-7fab-4edd-d1dc-3eb6a5865d92"
   },
   "outputs": [],
   "source": [
    "#hist es un grafico (pandas) de distribucion de  datos.\n",
    "#este grafico nos sirve para identificar cuales son las variables numericas y su frencuencia. \n",
    "\n",
    "df.hist(figsize=(16,10),facecolor='blue', alpha=0.9, bins=13, edgecolor='orange', linewidth=2)\n",
    "plt.show()"
   ]
  },
  {
   "cell_type": "code",
   "execution_count": null,
   "metadata": {
    "_cell_guid": "1899ace3-af9c-45aa-a351-affc1268f6fd",
    "_uuid": "965942ee9773a202172d7d855495089165b5ddac",
    "colab": {
     "base_uri": "https://localhost:8080/",
     "height": 463
    },
    "id": "DSyptdoCfaMI",
    "outputId": "e531a3c8-2d54-49bd-ead4-1effc6548cd7"
   },
   "outputs": [],
   "source": [
    "#otra forma de ver la distribucion de los datos\n",
    "# Uso de Libreria Seaborn (sna) para poner multiples graficos de distribución  \n",
    "f, axes = plt.subplots(ncols=3, figsize=(15, 6))\n",
    "\n",
    "#variable PM10\n",
    "sns.distplot(df.PM10, kde=False, color=\"g\", ax=axes[0]).set_title('PM10')\n",
    "\n",
    "#variable PM10\n",
    "sns.distplot(df.Status, kde=False, color=\"r\", ax=axes[1]).set_title('Status')\n",
    "\n",
    "#variable NOX\n",
    "sns.distplot(df.NOX, kde=False, color=\"b\", ax=axes[2]).set_title('NOX')"
   ]
  },
  {
   "cell_type": "markdown",
   "metadata": {
    "_cell_guid": "59946601-f880-492f-bba0-2abb6fa3349c",
    "_uuid": "0a7acbd87733d69cd9415694ecf9207bd3a351d8",
    "id": "sWcK6sbxfaMI"
   },
   "source": [
    "###  3.3 Gráfico de barras\n"
   ]
  },
  {
   "cell_type": "code",
   "execution_count": null,
   "metadata": {
    "_cell_guid": "9949ba1f-4427-422b-99ca-8dac582a02b1",
    "_uuid": "df172af0f3fc0fdcf837b6f94c0f477fd831dc04",
    "colab": {
     "base_uri": "https://localhost:8080/",
     "height": 283
    },
    "id": "kKjM2tlLfaMI",
    "outputId": "05c7e2b3-6947-4b2f-b7eb-159d913641bd",
    "scrolled": true
   },
   "outputs": [],
   "source": [
    "#ditribucion por estacion \n",
    "f, ax = plt.subplots(figsize=(15, 4))\n",
    "sns.countplot(x=\"Station\", hue='Status', data=df).set_title('Distribución de Station');"
   ]
  },
  {
   "cell_type": "code",
   "execution_count": null,
   "metadata": {
    "_cell_guid": "d3b1f718-f4d4-4e4f-8e64-e110e65416d6",
    "_uuid": "2fa4f8c2ee0138b1a32a5b64611ae2fc1362227d",
    "colab": {
     "base_uri": "https://localhost:8080/",
     "height": 346
    },
    "id": "PvGad6_cfaMJ",
    "outputId": "bfb4cc61-25af-4cc9-bb03-a18f4b164bac"
   },
   "outputs": [],
   "source": [
    "# Types of colors\n",
    "color_types = ['#78C850','#F08030','#6890F0','#A8B820','#A8A878','#A040A0','#F8D030',  \n",
    "                '#E0C068','#EE99AC','#C03028','#F85888','#B8A038','#705898','#98D8D8','#7038F8' ,'#FFFFF']\n",
    "\n",
    "# Count Plot (a.k.a. Bar Plot)\n",
    "sns.countplot(y='Station', data=df).set_title('Distribución por Estación');\n",
    " \n",
    "# Rotate x-labels\n",
    "plt.xticks(rotation=-45)"
   ]
  },
  {
   "cell_type": "markdown",
   "metadata": {
    "_cell_guid": "5c692223-97b5-49e0-91b6-110b14267dad",
    "_uuid": "82a9fc8e7ca4c2d4d7f89921bbf25863ab1b5e0b",
    "id": "t_y8BlNCfaMM"
   },
   "source": [
    "###  3.4 Gráficos de Cajas\n"
   ]
  },
  {
   "cell_type": "code",
   "execution_count": null,
   "metadata": {
    "_cell_guid": "f71fe174-dd36-43a2-b882-99976b1fbb8d",
    "_uuid": "8cb12be2d8182a91b87bb91a11edf9864677976d",
    "colab": {
     "base_uri": "https://localhost:8080/",
     "height": 529
    },
    "id": "m-HHyXDVfaMO",
    "outputId": "05821c7d-0e14-45a4-f9f0-95f057371e4a",
    "scrolled": true
   },
   "outputs": [],
   "source": [
    "import seaborn as sns\n",
    "\n",
    "a4_dims = (11.7, 8.27)\n",
    "fig, ax = plt.subplots(figsize=a4_dims)\n",
    "\n",
    "sns.boxplot(x=\"Station\", y=\"PM2.5\",  data=df)\n",
    "valh=4\n",
    "plt.axhline(valh, color='red')"
   ]
  },
  {
   "cell_type": "markdown",
   "metadata": {
    "id": "MUpSVz-3YfQF"
   },
   "source": [
    "Hemos revisado la información de ded dataset \"calidad del aire\", donde es importante la estación que mide la calidad del aire, sin embargo, no tenemos donde esta ubicada. \n",
    "\n",
    "Ahora vamos a cargar un nuevo dataset, que contiene la infromación de la ubicación (Latitud, Longitud) de cada estación."
   ]
  },
  {
   "cell_type": "markdown",
   "metadata": {
    "id": "P3yYMiAZQgwO"
   },
   "source": [
    "## 4. Tecnicas para solucionar valores perdidos y anomalias en un dataset"
   ]
  },
  {
   "cell_type": "code",
   "execution_count": null,
   "metadata": {
    "id": "pbLMpWpxZMzj"
   },
   "outputs": [],
   "source": [
    "#Contar valores nulos por columnas\n",
    "\n",
    "\n"
   ]
  },
  {
   "cell_type": "markdown",
   "metadata": {},
   "source": [
    "### 4.1 Completar con la media, mediana o desviación estándar"
   ]
  },
  {
   "cell_type": "code",
   "execution_count": null,
   "metadata": {},
   "outputs": [],
   "source": [
    "#Para todo el conjunto de datos \n",
    "df_1 = df.fillna(df.std())\n",
    "df_1.iloc[0]\n",
    "\n",
    "\n",
    "#Para una sola columna\n",
    "\n",
    "#df_1 = df['PM10'].fillna((df['PM10'].std()), inplace=True)\n"
   ]
  },
  {
   "cell_type": "code",
   "execution_count": null,
   "metadata": {},
   "outputs": [],
   "source": [
    "df_1.isnull().sum()"
   ]
  },
  {
   "cell_type": "markdown",
   "metadata": {},
   "source": [
    "### 4.2 Completar con valor predeterminada "
   ]
  },
  {
   "cell_type": "code",
   "execution_count": null,
   "metadata": {},
   "outputs": [],
   "source": [
    "df_2 = df.fillna(25)\n",
    "df_2.iloc[0]"
   ]
  },
  {
   "cell_type": "code",
   "execution_count": null,
   "metadata": {},
   "outputs": [],
   "source": [
    "df_2.isnull().sum()"
   ]
  },
  {
   "cell_type": "markdown",
   "metadata": {},
   "source": [
    "### 4.3 Eliminar NaN"
   ]
  },
  {
   "cell_type": "code",
   "execution_count": null,
   "metadata": {},
   "outputs": [],
   "source": [
    "#Elinina todas las filas que tengan NaN\n",
    "df_3 = nan_rows.dropna()"
   ]
  },
  {
   "cell_type": "code",
   "execution_count": null,
   "metadata": {},
   "outputs": [],
   "source": [
    "df_3.isnull().sum()"
   ]
  }
 ],
 "metadata": {
  "colab": {
   "collapsed_sections": [],
   "provenance": [],
   "toc_visible": true
  },
  "kernelspec": {
   "display_name": "Python 3",
   "language": "python",
   "name": "python3"
  },
  "language_info": {
   "codemirror_mode": {
    "name": "ipython",
    "version": 3
   },
   "file_extension": ".py",
   "mimetype": "text/x-python",
   "name": "python",
   "nbconvert_exporter": "python",
   "pygments_lexer": "ipython3",
   "version": "3.10.7 (main, Sep 15 2022, 01:51:29) [Clang 14.0.0 (clang-1400.0.29.102)]"
  },
  "vscode": {
   "interpreter": {
    "hash": "aee8b7b246df8f9039afb4144a1f6fd8d2ca17a180786b69acc140d282b71a49"
   }
  }
 },
 "nbformat": 4,
 "nbformat_minor": 4
}
